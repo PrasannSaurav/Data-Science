{
 "cells": [
  {
   "cell_type": "code",
   "execution_count": 1,
   "metadata": {},
   "outputs": [],
   "source": [
    "# Using all Variables\n",
    "import re\n",
    "import pandas as pd\n",
    "import sklearn"
   ]
  },
  {
   "cell_type": "code",
   "execution_count": 2,
   "metadata": {},
   "outputs": [
    {
     "name": "stderr",
     "output_type": "stream",
     "text": [
      "/home/ne04326/anaconda2/lib/python2.7/site-packages/sklearn/cross_validation.py:41: DeprecationWarning: This module was deprecated in version 0.18 in favor of the model_selection module into which all the refactored classes and functions are moved. Also note that the interface of the new CV iterators are different from that of this module. This module will be removed in 0.20.\n",
      "  \"This module will be removed in 0.20.\", DeprecationWarning)\n"
     ]
    }
   ],
   "source": [
    "import numpy as np\n",
    "from sklearn.cross_validation import train_test_split\n",
    "from sklearn.tree import DecisionTreeClassifier\n",
    "from sklearn.metrics import accuracy_score\n",
    "from sklearn import tree"
   ]
  },
  {
   "cell_type": "code",
   "execution_count": 3,
   "metadata": {},
   "outputs": [],
   "source": [
    "fadf = pd.read_excel('FA Analysis - 4K with no names - Clean1.xlsx',index = False)\n",
    "fadf1 = pd.read_excel('DT_score.xlsx',index = False)"
   ]
  },
  {
   "cell_type": "code",
   "execution_count": 4,
   "metadata": {},
   "outputs": [],
   "source": [
    "fadf2 = pd.read_excel('FA Firm NNM.xlsx',index = False)\n",
    "fadf3 = pd.merge(fadf, fadf2, left_on='FA Details-GPN', right_on='GPN')"
   ]
  },
  {
   "cell_type": "code",
   "execution_count": 5,
   "metadata": {},
   "outputs": [
    {
     "data": {
      "text/html": [
       "<div>\n",
       "<style scoped>\n",
       "    .dataframe tbody tr th:only-of-type {\n",
       "        vertical-align: middle;\n",
       "    }\n",
       "\n",
       "    .dataframe tbody tr th {\n",
       "        vertical-align: top;\n",
       "    }\n",
       "\n",
       "    .dataframe thead th {\n",
       "        text-align: right;\n",
       "    }\n",
       "</style>\n",
       "<table border=\"1\" class=\"dataframe\">\n",
       "  <thead>\n",
       "    <tr style=\"text-align: right;\">\n",
       "      <th></th>\n",
       "      <th>FA Details-GPN</th>\n",
       "      <th>FA Details-I-LOS</th>\n",
       "      <th>FA Details-UBS-LOS</th>\n",
       "      <th>FA Details-Teaming Flag</th>\n",
       "      <th>FA Details-Yrs. Left on EFL\n",
       "(Feb 2018)</th>\n",
       "      <th>FA Details-Production Quintile</th>\n",
       "      <th>FA Details-T12\n",
       "(Feb 2018)</th>\n",
       "      <th>FA Details-AuM YE 17</th>\n",
       "      <th>Product Mix (Rev)-Advisory %</th>\n",
       "      <th>Product Mix (Rev)-Alts.</th>\n",
       "      <th>...</th>\n",
       "      <th>Firm YTD (June) NNM</th>\n",
       "      <th>Firm 2017 NNM</th>\n",
       "      <th>Firm 2016 NNM</th>\n",
       "      <th>Firm 2015 NNM</th>\n",
       "      <th>GPN</th>\n",
       "      <th>FAID</th>\n",
       "      <th>YTD (June) NNM</th>\n",
       "      <th>2017 NNM</th>\n",
       "      <th>2016 NNM</th>\n",
       "      <th>2015 NNM</th>\n",
       "    </tr>\n",
       "  </thead>\n",
       "  <tbody>\n",
       "    <tr>\n",
       "      <th>0</th>\n",
       "      <td>43291034</td>\n",
       "      <td>12.05</td>\n",
       "      <td>9.04</td>\n",
       "      <td>0</td>\n",
       "      <td>-0.2</td>\n",
       "      <td>1</td>\n",
       "      <td>1349015.30</td>\n",
       "      <td>1.509757e+08</td>\n",
       "      <td>0.702050</td>\n",
       "      <td>0.007914</td>\n",
       "      <td>...</td>\n",
       "      <td>6914</td>\n",
       "      <td>281</td>\n",
       "      <td>15094</td>\n",
       "      <td>12298</td>\n",
       "      <td>43291034</td>\n",
       "      <td>AJ MS</td>\n",
       "      <td>6914.0</td>\n",
       "      <td>281</td>\n",
       "      <td>15094.0</td>\n",
       "      <td>12298.0</td>\n",
       "    </tr>\n",
       "    <tr>\n",
       "      <th>1</th>\n",
       "      <td>80000686</td>\n",
       "      <td>8.08</td>\n",
       "      <td>8.11</td>\n",
       "      <td>1</td>\n",
       "      <td>0.0</td>\n",
       "      <td>3</td>\n",
       "      <td>615707.13</td>\n",
       "      <td>7.922755e+07</td>\n",
       "      <td>0.785594</td>\n",
       "      <td>0.004311</td>\n",
       "      <td>...</td>\n",
       "      <td>8239</td>\n",
       "      <td>5710</td>\n",
       "      <td>7128</td>\n",
       "      <td>3315</td>\n",
       "      <td>80000686</td>\n",
       "      <td>AJ 60</td>\n",
       "      <td>8239.0</td>\n",
       "      <td>5710</td>\n",
       "      <td>7128.0</td>\n",
       "      <td>3315.0</td>\n",
       "    </tr>\n",
       "    <tr>\n",
       "      <th>2</th>\n",
       "      <td>43352604</td>\n",
       "      <td>12.02</td>\n",
       "      <td>6.06</td>\n",
       "      <td>1</td>\n",
       "      <td>2.8</td>\n",
       "      <td>5</td>\n",
       "      <td>500575.60</td>\n",
       "      <td>5.665123e+07</td>\n",
       "      <td>0.670920</td>\n",
       "      <td>0.027521</td>\n",
       "      <td>...</td>\n",
       "      <td>527</td>\n",
       "      <td>1828</td>\n",
       "      <td>1953</td>\n",
       "      <td>2868</td>\n",
       "      <td>43352604</td>\n",
       "      <td>AJ MJ</td>\n",
       "      <td>527.0</td>\n",
       "      <td>1828</td>\n",
       "      <td>1953.0</td>\n",
       "      <td>2868.0</td>\n",
       "    </tr>\n",
       "    <tr>\n",
       "      <th>3</th>\n",
       "      <td>43298966</td>\n",
       "      <td>16.05</td>\n",
       "      <td>8.11</td>\n",
       "      <td>1</td>\n",
       "      <td>0.2</td>\n",
       "      <td>1</td>\n",
       "      <td>2874005.48</td>\n",
       "      <td>2.946003e+08</td>\n",
       "      <td>0.551391</td>\n",
       "      <td>0.005667</td>\n",
       "      <td>...</td>\n",
       "      <td>42439</td>\n",
       "      <td>497</td>\n",
       "      <td>12886</td>\n",
       "      <td>-4365</td>\n",
       "      <td>43298966</td>\n",
       "      <td>AJ AL</td>\n",
       "      <td>42439.0</td>\n",
       "      <td>497</td>\n",
       "      <td>12886.0</td>\n",
       "      <td>-4365.0</td>\n",
       "    </tr>\n",
       "    <tr>\n",
       "      <th>4</th>\n",
       "      <td>43138114</td>\n",
       "      <td>37.07</td>\n",
       "      <td>19.01</td>\n",
       "      <td>1</td>\n",
       "      <td>4.9</td>\n",
       "      <td>1</td>\n",
       "      <td>2015931.35</td>\n",
       "      <td>4.080550e+08</td>\n",
       "      <td>0.102297</td>\n",
       "      <td>0.021113</td>\n",
       "      <td>...</td>\n",
       "      <td>-1878</td>\n",
       "      <td>-7646</td>\n",
       "      <td>9</td>\n",
       "      <td>-3333</td>\n",
       "      <td>43138114</td>\n",
       "      <td>AJ 52</td>\n",
       "      <td>-1878.0</td>\n",
       "      <td>-7646</td>\n",
       "      <td>9.0</td>\n",
       "      <td>-3333.0</td>\n",
       "    </tr>\n",
       "  </tbody>\n",
       "</table>\n",
       "<p>5 rows × 117 columns</p>\n",
       "</div>"
      ],
      "text/plain": [
       "   FA Details-GPN  FA Details-I-LOS  FA Details-UBS-LOS  \\\n",
       "0        43291034             12.05                9.04   \n",
       "1        80000686              8.08                8.11   \n",
       "2        43352604             12.02                6.06   \n",
       "3        43298966             16.05                8.11   \n",
       "4        43138114             37.07               19.01   \n",
       "\n",
       "   FA Details-Teaming Flag  FA Details-Yrs. Left on EFL\\n(Feb 2018)  \\\n",
       "0                        0                                     -0.2   \n",
       "1                        1                                      0.0   \n",
       "2                        1                                      2.8   \n",
       "3                        1                                      0.2   \n",
       "4                        1                                      4.9   \n",
       "\n",
       "   FA Details-Production Quintile  FA Details-T12\\n(Feb 2018)  \\\n",
       "0                               1                  1349015.30   \n",
       "1                               3                   615707.13   \n",
       "2                               5                   500575.60   \n",
       "3                               1                  2874005.48   \n",
       "4                               1                  2015931.35   \n",
       "\n",
       "   FA Details-AuM YE 17  Product Mix (Rev)-Advisory %  \\\n",
       "0          1.509757e+08                      0.702050   \n",
       "1          7.922755e+07                      0.785594   \n",
       "2          5.665123e+07                      0.670920   \n",
       "3          2.946003e+08                      0.551391   \n",
       "4          4.080550e+08                      0.102297   \n",
       "\n",
       "   Product Mix (Rev)-Alts.    ...     Firm YTD (June) NNM  Firm 2017 NNM  \\\n",
       "0                 0.007914    ...                    6914            281   \n",
       "1                 0.004311    ...                    8239           5710   \n",
       "2                 0.027521    ...                     527           1828   \n",
       "3                 0.005667    ...                   42439            497   \n",
       "4                 0.021113    ...                   -1878          -7646   \n",
       "\n",
       "   Firm 2016 NNM  Firm 2015 NNM       GPN   FAID  YTD (June) NNM  2017 NNM  \\\n",
       "0          15094          12298  43291034  AJ MS          6914.0       281   \n",
       "1           7128           3315  80000686  AJ 60          8239.0      5710   \n",
       "2           1953           2868  43352604  AJ MJ           527.0      1828   \n",
       "3          12886          -4365  43298966  AJ AL         42439.0       497   \n",
       "4              9          -3333  43138114  AJ 52         -1878.0     -7646   \n",
       "\n",
       "   2016 NNM  2015 NNM  \n",
       "0   15094.0   12298.0  \n",
       "1    7128.0    3315.0  \n",
       "2    1953.0    2868.0  \n",
       "3   12886.0   -4365.0  \n",
       "4       9.0   -3333.0  \n",
       "\n",
       "[5 rows x 117 columns]"
      ]
     },
     "execution_count": 5,
     "metadata": {},
     "output_type": "execute_result"
    }
   ],
   "source": [
    "fadf3.head()"
   ]
  },
  {
   "cell_type": "code",
   "execution_count": 7,
   "metadata": {},
   "outputs": [],
   "source": [
    "fadf3['NNM_quintile'] = pd.qcut(fadf3['2017 NNM'], 4, labels=False)\n",
    "fadf_final =  pd.concat([fadf1, fadf3[['NNM_quintile']]], axis = 1)"
   ]
  },
  {
   "cell_type": "code",
   "execution_count": 8,
   "metadata": {},
   "outputs": [],
   "source": [
    "fadf_final.drop(['Segment Index Score (All FA Score)-Client Acquisition Score', 'Segment Index Score (All FA Score)-Delivering the Firm','Segment Index Score (All FA Score)-Planning Score'], axis=1, inplace=True)"
   ]
  },
  {
   "cell_type": "code",
   "execution_count": 9,
   "metadata": {},
   "outputs": [
    {
     "data": {
      "text/html": [
       "<div>\n",
       "<style scoped>\n",
       "    .dataframe tbody tr th:only-of-type {\n",
       "        vertical-align: middle;\n",
       "    }\n",
       "\n",
       "    .dataframe tbody tr th {\n",
       "        vertical-align: top;\n",
       "    }\n",
       "\n",
       "    .dataframe thead th {\n",
       "        text-align: right;\n",
       "    }\n",
       "</style>\n",
       "<table border=\"1\" class=\"dataframe\">\n",
       "  <thead>\n",
       "    <tr style=\"text-align: right;\">\n",
       "      <th></th>\n",
       "      <th>Segment Index Score (All FA Score)-Advisory Score</th>\n",
       "      <th>Segment Index Score (All FA Score)-Client Retention</th>\n",
       "      <th>Segment Index Score (All FA Score)-Marketing Score</th>\n",
       "      <th>Segment Index Score (All FA Score)-Banking Score</th>\n",
       "      <th>NNM_quintile</th>\n",
       "    </tr>\n",
       "  </thead>\n",
       "  <tbody>\n",
       "    <tr>\n",
       "      <th>0</th>\n",
       "      <td>9</td>\n",
       "      <td>7</td>\n",
       "      <td>6.00</td>\n",
       "      <td>4.00</td>\n",
       "      <td>2</td>\n",
       "    </tr>\n",
       "    <tr>\n",
       "      <th>1</th>\n",
       "      <td>9</td>\n",
       "      <td>2</td>\n",
       "      <td>5.50</td>\n",
       "      <td>7.75</td>\n",
       "      <td>3</td>\n",
       "    </tr>\n",
       "    <tr>\n",
       "      <th>2</th>\n",
       "      <td>7</td>\n",
       "      <td>2</td>\n",
       "      <td>7.75</td>\n",
       "      <td>6.00</td>\n",
       "      <td>2</td>\n",
       "    </tr>\n",
       "    <tr>\n",
       "      <th>3</th>\n",
       "      <td>10</td>\n",
       "      <td>1</td>\n",
       "      <td>6.75</td>\n",
       "      <td>10.00</td>\n",
       "      <td>2</td>\n",
       "    </tr>\n",
       "    <tr>\n",
       "      <th>4</th>\n",
       "      <td>1</td>\n",
       "      <td>7</td>\n",
       "      <td>5.75</td>\n",
       "      <td>5.00</td>\n",
       "      <td>0</td>\n",
       "    </tr>\n",
       "  </tbody>\n",
       "</table>\n",
       "</div>"
      ],
      "text/plain": [
       "   Segment Index Score (All FA Score)-Advisory Score  \\\n",
       "0                                                  9   \n",
       "1                                                  9   \n",
       "2                                                  7   \n",
       "3                                                 10   \n",
       "4                                                  1   \n",
       "\n",
       "   Segment Index Score (All FA Score)-Client Retention  \\\n",
       "0                                                  7     \n",
       "1                                                  2     \n",
       "2                                                  2     \n",
       "3                                                  1     \n",
       "4                                                  7     \n",
       "\n",
       "   Segment Index Score (All FA Score)-Marketing Score  \\\n",
       "0                                               6.00    \n",
       "1                                               5.50    \n",
       "2                                               7.75    \n",
       "3                                               6.75    \n",
       "4                                               5.75    \n",
       "\n",
       "   Segment Index Score (All FA Score)-Banking Score  NNM_quintile  \n",
       "0                                              4.00             2  \n",
       "1                                              7.75             3  \n",
       "2                                              6.00             2  \n",
       "3                                             10.00             2  \n",
       "4                                              5.00             0  "
      ]
     },
     "execution_count": 9,
     "metadata": {},
     "output_type": "execute_result"
    }
   ],
   "source": [
    "fadf_final.head()"
   ]
  },
  {
   "cell_type": "code",
   "execution_count": 10,
   "metadata": {},
   "outputs": [],
   "source": [
    "X = fadf_final.iloc[:, 0:4]\n",
    "Y = fadf_final.iloc[:,4]"
   ]
  },
  {
   "cell_type": "code",
   "execution_count": 11,
   "metadata": {},
   "outputs": [],
   "source": [
    "X_train, X_test, Y_train, Y_test = train_test_split( X, Y, test_size = 0.3, random_state = 100)"
   ]
  },
  {
   "cell_type": "code",
   "execution_count": 12,
   "metadata": {},
   "outputs": [],
   "source": [
    "clf_gini = DecisionTreeClassifier(criterion = \"gini\", random_state = 100,\n",
    "                        max_depth=4,min_samples_leaf=5)"
   ]
  },
  {
   "cell_type": "code",
   "execution_count": 13,
   "metadata": {},
   "outputs": [],
   "source": [
    "AA = clf_gini.fit(X_train, Y_train)"
   ]
  },
  {
   "cell_type": "code",
   "execution_count": 14,
   "metadata": {},
   "outputs": [],
   "source": [
    "with open(\"DT_score_leftover.dot\", \"w\") as f:\n",
    "    f = tree.export_graphviz(AA, out_file=f)"
   ]
  },
  {
   "cell_type": "code",
   "execution_count": 15,
   "metadata": {},
   "outputs": [
    {
     "data": {
      "text/plain": [
       "[u'Segment Index Score (All FA Score)-Advisory Score',\n",
       " u'Segment Index Score (All FA Score)-Client Retention',\n",
       " u'Segment Index Score (All FA Score)-Marketing Score',\n",
       " u'Segment Index Score (All FA Score)-Banking Score']"
      ]
     },
     "execution_count": 15,
     "metadata": {},
     "output_type": "execute_result"
    }
   ],
   "source": [
    "name = list(X_train)\n",
    "name"
   ]
  },
  {
   "cell_type": "code",
   "execution_count": 16,
   "metadata": {},
   "outputs": [],
   "source": [
    "with open(\"DT_score_leftover.txt\", \"w\") as f:\n",
    "    f = tree.export_graphviz(AA, out_file=f, feature_names=name)"
   ]
  },
  {
   "cell_type": "code",
   "execution_count": 17,
   "metadata": {},
   "outputs": [
    {
     "data": {
      "text/plain": [
       "array([2, 2, 2, ..., 1, 3, 0])"
      ]
     },
     "execution_count": 17,
     "metadata": {},
     "output_type": "execute_result"
    }
   ],
   "source": [
    "y_pred1 = clf_gini.predict(X_train)\n",
    "y_pred1"
   ]
  },
  {
   "cell_type": "code",
   "execution_count": 18,
   "metadata": {},
   "outputs": [
    {
     "name": "stdout",
     "output_type": "stream",
     "text": [
      "Accuracy is  35.460750853242324\n"
     ]
    }
   ],
   "source": [
    "print \"Accuracy is \", accuracy_score(Y_train,y_pred1)*100"
   ]
  },
  {
   "cell_type": "code",
   "execution_count": 19,
   "metadata": {},
   "outputs": [
    {
     "data": {
      "text/plain": [
       "array([0, 2, 2, ..., 2, 0, 0])"
      ]
     },
     "execution_count": 19,
     "metadata": {},
     "output_type": "execute_result"
    }
   ],
   "source": [
    "y_pred = clf_gini.predict(X_test)\n",
    "y_pred"
   ]
  },
  {
   "cell_type": "code",
   "execution_count": 20,
   "metadata": {},
   "outputs": [
    {
     "name": "stdout",
     "output_type": "stream",
     "text": [
      "Accuracy is  33.28025477707006\n"
     ]
    }
   ],
   "source": [
    "print \"Accuracy is \", accuracy_score(Y_test,y_pred)*100"
   ]
  },
  {
   "cell_type": "code",
   "execution_count": 21,
   "metadata": {},
   "outputs": [],
   "source": [
    "Imp = pd.DataFrame(clf_gini.feature_importances_)\n",
    "name1 = pd.DataFrame(name)"
   ]
  },
  {
   "cell_type": "code",
   "execution_count": 22,
   "metadata": {},
   "outputs": [
    {
     "data": {
      "text/html": [
       "<div>\n",
       "<style scoped>\n",
       "    .dataframe tbody tr th:only-of-type {\n",
       "        vertical-align: middle;\n",
       "    }\n",
       "\n",
       "    .dataframe tbody tr th {\n",
       "        vertical-align: top;\n",
       "    }\n",
       "\n",
       "    .dataframe thead th {\n",
       "        text-align: right;\n",
       "    }\n",
       "</style>\n",
       "<table border=\"1\" class=\"dataframe\">\n",
       "  <thead>\n",
       "    <tr style=\"text-align: right;\">\n",
       "      <th></th>\n",
       "      <th>Var</th>\n",
       "      <th>Score</th>\n",
       "    </tr>\n",
       "  </thead>\n",
       "  <tbody>\n",
       "    <tr>\n",
       "      <th>1</th>\n",
       "      <td>Segment Index Score (All FA Score)-Client Rete...</td>\n",
       "      <td>0.268694</td>\n",
       "    </tr>\n",
       "    <tr>\n",
       "      <th>2</th>\n",
       "      <td>Segment Index Score (All FA Score)-Marketing S...</td>\n",
       "      <td>0.267155</td>\n",
       "    </tr>\n",
       "    <tr>\n",
       "      <th>3</th>\n",
       "      <td>Segment Index Score (All FA Score)-Banking Score</td>\n",
       "      <td>0.241471</td>\n",
       "    </tr>\n",
       "    <tr>\n",
       "      <th>0</th>\n",
       "      <td>Segment Index Score (All FA Score)-Advisory Score</td>\n",
       "      <td>0.222680</td>\n",
       "    </tr>\n",
       "  </tbody>\n",
       "</table>\n",
       "</div>"
      ],
      "text/plain": [
       "                                                 Var     Score\n",
       "1  Segment Index Score (All FA Score)-Client Rete...  0.268694\n",
       "2  Segment Index Score (All FA Score)-Marketing S...  0.267155\n",
       "3   Segment Index Score (All FA Score)-Banking Score  0.241471\n",
       "0  Segment Index Score (All FA Score)-Advisory Score  0.222680"
      ]
     },
     "execution_count": 22,
     "metadata": {},
     "output_type": "execute_result"
    }
   ],
   "source": [
    "Imp1 = pd.concat([name1, Imp], axis=1)\n",
    "Imp1.columns = ['Var', 'Score']\n",
    "Imp1 = Imp1.sort_values(by='Score',ascending=False)\n",
    "Imp1"
   ]
  },
  {
   "cell_type": "code",
   "execution_count": 23,
   "metadata": {},
   "outputs": [
    {
     "data": {
      "text/html": [
       "<div>\n",
       "<style scoped>\n",
       "    .dataframe tbody tr th:only-of-type {\n",
       "        vertical-align: middle;\n",
       "    }\n",
       "\n",
       "    .dataframe tbody tr th {\n",
       "        vertical-align: top;\n",
       "    }\n",
       "\n",
       "    .dataframe thead th {\n",
       "        text-align: right;\n",
       "    }\n",
       "</style>\n",
       "<table border=\"1\" class=\"dataframe\">\n",
       "  <thead>\n",
       "    <tr style=\"text-align: right;\">\n",
       "      <th></th>\n",
       "      <th>Segment Index Score (All FA Score)-Advisory Score</th>\n",
       "      <th>Segment Index Score (All FA Score)-Client Retention</th>\n",
       "      <th>Segment Index Score (All FA Score)-Marketing Score</th>\n",
       "      <th>Segment Index Score (All FA Score)-Banking Score</th>\n",
       "      <th>NNM_quintile</th>\n",
       "    </tr>\n",
       "  </thead>\n",
       "  <tbody>\n",
       "    <tr>\n",
       "      <th>221</th>\n",
       "      <td>1</td>\n",
       "      <td>1</td>\n",
       "      <td>4.50</td>\n",
       "      <td>2.25</td>\n",
       "      <td>2</td>\n",
       "    </tr>\n",
       "    <tr>\n",
       "      <th>459</th>\n",
       "      <td>8</td>\n",
       "      <td>1</td>\n",
       "      <td>5.25</td>\n",
       "      <td>8.25</td>\n",
       "      <td>0</td>\n",
       "    </tr>\n",
       "    <tr>\n",
       "      <th>4034</th>\n",
       "      <td>8</td>\n",
       "      <td>9</td>\n",
       "      <td>0.25</td>\n",
       "      <td>3.75</td>\n",
       "      <td>0</td>\n",
       "    </tr>\n",
       "    <tr>\n",
       "      <th>2684</th>\n",
       "      <td>9</td>\n",
       "      <td>8</td>\n",
       "      <td>5.00</td>\n",
       "      <td>3.25</td>\n",
       "      <td>3</td>\n",
       "    </tr>\n",
       "    <tr>\n",
       "      <th>2528</th>\n",
       "      <td>2</td>\n",
       "      <td>3</td>\n",
       "      <td>5.25</td>\n",
       "      <td>7.75</td>\n",
       "      <td>0</td>\n",
       "    </tr>\n",
       "  </tbody>\n",
       "</table>\n",
       "</div>"
      ],
      "text/plain": [
       "      Segment Index Score (All FA Score)-Advisory Score  \\\n",
       "221                                                   1   \n",
       "459                                                   8   \n",
       "4034                                                  8   \n",
       "2684                                                  9   \n",
       "2528                                                  2   \n",
       "\n",
       "      Segment Index Score (All FA Score)-Client Retention  \\\n",
       "221                                                   1     \n",
       "459                                                   1     \n",
       "4034                                                  9     \n",
       "2684                                                  8     \n",
       "2528                                                  3     \n",
       "\n",
       "      Segment Index Score (All FA Score)-Marketing Score  \\\n",
       "221                                                4.50    \n",
       "459                                                5.25    \n",
       "4034                                               0.25    \n",
       "2684                                               5.00    \n",
       "2528                                               5.25    \n",
       "\n",
       "      Segment Index Score (All FA Score)-Banking Score  NNM_quintile  \n",
       "221                                               2.25             2  \n",
       "459                                               8.25             0  \n",
       "4034                                              3.75             0  \n",
       "2684                                              3.25             3  \n",
       "2528                                              7.75             0  "
      ]
     },
     "execution_count": 23,
     "metadata": {},
     "output_type": "execute_result"
    }
   ],
   "source": [
    "Y_final =  pd.concat([X_test,Y_test], axis = 1)\n",
    "Y_final.head()"
   ]
  },
  {
   "cell_type": "code",
   "execution_count": 24,
   "metadata": {},
   "outputs": [],
   "source": [
    "C1 = Y_final['Segment Index Score (All FA Score)-Marketing Score']  > 4.125\n",
    "C2 = Y_final['Segment Index Score (All FA Score)-Client Retention'] > 4.5\n",
    "Y1= Y_final[C1 & C2]"
   ]
  },
  {
   "cell_type": "code",
   "execution_count": 25,
   "metadata": {},
   "outputs": [
    {
     "data": {
      "text/html": [
       "<div>\n",
       "<style scoped>\n",
       "    .dataframe tbody tr th:only-of-type {\n",
       "        vertical-align: middle;\n",
       "    }\n",
       "\n",
       "    .dataframe tbody tr th {\n",
       "        vertical-align: top;\n",
       "    }\n",
       "\n",
       "    .dataframe thead th {\n",
       "        text-align: right;\n",
       "    }\n",
       "</style>\n",
       "<table border=\"1\" class=\"dataframe\">\n",
       "  <thead>\n",
       "    <tr style=\"text-align: right;\">\n",
       "      <th></th>\n",
       "      <th>Segment Index Score (All FA Score)-Advisory Score</th>\n",
       "      <th>Segment Index Score (All FA Score)-Client Retention</th>\n",
       "      <th>Segment Index Score (All FA Score)-Marketing Score</th>\n",
       "      <th>Segment Index Score (All FA Score)-Banking Score</th>\n",
       "    </tr>\n",
       "    <tr>\n",
       "      <th>NNM_quintile</th>\n",
       "      <th></th>\n",
       "      <th></th>\n",
       "      <th></th>\n",
       "      <th></th>\n",
       "    </tr>\n",
       "  </thead>\n",
       "  <tbody>\n",
       "    <tr>\n",
       "      <th>0</th>\n",
       "      <td>60</td>\n",
       "      <td>60</td>\n",
       "      <td>60</td>\n",
       "      <td>60</td>\n",
       "    </tr>\n",
       "    <tr>\n",
       "      <th>1</th>\n",
       "      <td>67</td>\n",
       "      <td>67</td>\n",
       "      <td>67</td>\n",
       "      <td>67</td>\n",
       "    </tr>\n",
       "    <tr>\n",
       "      <th>2</th>\n",
       "      <td>91</td>\n",
       "      <td>91</td>\n",
       "      <td>91</td>\n",
       "      <td>91</td>\n",
       "    </tr>\n",
       "    <tr>\n",
       "      <th>3</th>\n",
       "      <td>122</td>\n",
       "      <td>122</td>\n",
       "      <td>122</td>\n",
       "      <td>122</td>\n",
       "    </tr>\n",
       "  </tbody>\n",
       "</table>\n",
       "</div>"
      ],
      "text/plain": [
       "              Segment Index Score (All FA Score)-Advisory Score  \\\n",
       "NNM_quintile                                                      \n",
       "0                                                            60   \n",
       "1                                                            67   \n",
       "2                                                            91   \n",
       "3                                                           122   \n",
       "\n",
       "              Segment Index Score (All FA Score)-Client Retention  \\\n",
       "NNM_quintile                                                        \n",
       "0                                                            60     \n",
       "1                                                            67     \n",
       "2                                                            91     \n",
       "3                                                           122     \n",
       "\n",
       "              Segment Index Score (All FA Score)-Marketing Score  \\\n",
       "NNM_quintile                                                       \n",
       "0                                                            60    \n",
       "1                                                            67    \n",
       "2                                                            91    \n",
       "3                                                           122    \n",
       "\n",
       "              Segment Index Score (All FA Score)-Banking Score  \n",
       "NNM_quintile                                                    \n",
       "0                                                           60  \n",
       "1                                                           67  \n",
       "2                                                           91  \n",
       "3                                                          122  "
      ]
     },
     "execution_count": 25,
     "metadata": {},
     "output_type": "execute_result"
    }
   ],
   "source": [
    "Y2 = Y1.groupby('NNM_quintile').count()\n",
    "Y2.head()"
   ]
  },
  {
   "cell_type": "code",
   "execution_count": 26,
   "metadata": {},
   "outputs": [
    {
     "name": "stderr",
     "output_type": "stream",
     "text": [
      "/home/ne04326/anaconda2/lib/python2.7/site-packages/ipykernel_launcher.py:1: DeprecationWarning: \n",
      ".ix is deprecated. Please use\n",
      ".loc for label based indexing or\n",
      ".iloc for positional indexing\n",
      "\n",
      "See the documentation here:\n",
      "http://pandas.pydata.org/pandas-docs/stable/indexing.html#ix-indexer-is-deprecated\n",
      "  \"\"\"Entry point for launching an IPython kernel.\n"
     ]
    },
    {
     "data": {
      "text/plain": [
       "35"
      ]
     },
     "execution_count": 26,
     "metadata": {},
     "output_type": "execute_result"
    }
   ],
   "source": [
    " (Y2.ix[3,1])*100 /(Y2.ix[0,1] + Y2.ix[1,1] + Y2.ix[2,1] + Y2.ix[3,1])"
   ]
  },
  {
   "cell_type": "code",
   "execution_count": 45,
   "metadata": {},
   "outputs": [
    {
     "data": {
      "text/html": [
       "<div>\n",
       "<style scoped>\n",
       "    .dataframe tbody tr th:only-of-type {\n",
       "        vertical-align: middle;\n",
       "    }\n",
       "\n",
       "    .dataframe tbody tr th {\n",
       "        vertical-align: top;\n",
       "    }\n",
       "\n",
       "    .dataframe thead th {\n",
       "        text-align: right;\n",
       "    }\n",
       "</style>\n",
       "<table border=\"1\" class=\"dataframe\">\n",
       "  <thead>\n",
       "    <tr style=\"text-align: right;\">\n",
       "      <th></th>\n",
       "      <th>Product Mix (Rev)-Alts. ($)</th>\n",
       "      <th>Product Mix (Rev)-BANKING Dollar ($)</th>\n",
       "      <th>Product Mix (Rev)-EQUITIES ($)</th>\n",
       "      <th>Product Mix (Rev)-INSURANCE / ANNUITIES ($)</th>\n",
       "      <th>Product Mix (Rev)-LENDING ($)</th>\n",
       "      <th>Product Mix (Rev)-MISCELLANEOUS ($)</th>\n",
       "      <th>Product Mix (Rev)-MUNICIPALS ($)</th>\n",
       "      <th>Product Mix (Rev)-MF and UIT ($)</th>\n",
       "      <th>Product Mix (Rev)-OTHER ($)</th>\n",
       "      <th>Product Mix (Rev)-TAXABLE FIXED I ($)</th>\n",
       "    </tr>\n",
       "    <tr>\n",
       "      <th>NNM_quintile</th>\n",
       "      <th></th>\n",
       "      <th></th>\n",
       "      <th></th>\n",
       "      <th></th>\n",
       "      <th></th>\n",
       "      <th></th>\n",
       "      <th></th>\n",
       "      <th></th>\n",
       "      <th></th>\n",
       "      <th></th>\n",
       "    </tr>\n",
       "  </thead>\n",
       "  <tbody>\n",
       "    <tr>\n",
       "      <th>0</th>\n",
       "      <td>16</td>\n",
       "      <td>16</td>\n",
       "      <td>16</td>\n",
       "      <td>16</td>\n",
       "      <td>16</td>\n",
       "      <td>16</td>\n",
       "      <td>16</td>\n",
       "      <td>16</td>\n",
       "      <td>16</td>\n",
       "      <td>16</td>\n",
       "    </tr>\n",
       "    <tr>\n",
       "      <th>1</th>\n",
       "      <td>9</td>\n",
       "      <td>9</td>\n",
       "      <td>9</td>\n",
       "      <td>9</td>\n",
       "      <td>9</td>\n",
       "      <td>9</td>\n",
       "      <td>9</td>\n",
       "      <td>9</td>\n",
       "      <td>9</td>\n",
       "      <td>9</td>\n",
       "    </tr>\n",
       "    <tr>\n",
       "      <th>2</th>\n",
       "      <td>6</td>\n",
       "      <td>6</td>\n",
       "      <td>6</td>\n",
       "      <td>6</td>\n",
       "      <td>6</td>\n",
       "      <td>6</td>\n",
       "      <td>6</td>\n",
       "      <td>6</td>\n",
       "      <td>6</td>\n",
       "      <td>6</td>\n",
       "    </tr>\n",
       "    <tr>\n",
       "      <th>3</th>\n",
       "      <td>41</td>\n",
       "      <td>41</td>\n",
       "      <td>41</td>\n",
       "      <td>41</td>\n",
       "      <td>41</td>\n",
       "      <td>41</td>\n",
       "      <td>41</td>\n",
       "      <td>41</td>\n",
       "      <td>41</td>\n",
       "      <td>41</td>\n",
       "    </tr>\n",
       "  </tbody>\n",
       "</table>\n",
       "</div>"
      ],
      "text/plain": [
       "              Product Mix (Rev)-Alts. ($)  \\\n",
       "NNM_quintile                                \n",
       "0                                      16   \n",
       "1                                       9   \n",
       "2                                       6   \n",
       "3                                      41   \n",
       "\n",
       "              Product Mix (Rev)-BANKING Dollar ($)  \\\n",
       "NNM_quintile                                         \n",
       "0                                               16   \n",
       "1                                                9   \n",
       "2                                                6   \n",
       "3                                               41   \n",
       "\n",
       "              Product Mix (Rev)-EQUITIES ($)  \\\n",
       "NNM_quintile                                   \n",
       "0                                         16   \n",
       "1                                          9   \n",
       "2                                          6   \n",
       "3                                         41   \n",
       "\n",
       "              Product Mix (Rev)-INSURANCE / ANNUITIES ($)  \\\n",
       "NNM_quintile                                                \n",
       "0                                                      16   \n",
       "1                                                       9   \n",
       "2                                                       6   \n",
       "3                                                      41   \n",
       "\n",
       "              Product Mix (Rev)-LENDING ($)  \\\n",
       "NNM_quintile                                  \n",
       "0                                        16   \n",
       "1                                         9   \n",
       "2                                         6   \n",
       "3                                        41   \n",
       "\n",
       "              Product Mix (Rev)-MISCELLANEOUS ($)  \\\n",
       "NNM_quintile                                        \n",
       "0                                              16   \n",
       "1                                               9   \n",
       "2                                               6   \n",
       "3                                              41   \n",
       "\n",
       "              Product Mix (Rev)-MUNICIPALS ($)  \\\n",
       "NNM_quintile                                     \n",
       "0                                           16   \n",
       "1                                            9   \n",
       "2                                            6   \n",
       "3                                           41   \n",
       "\n",
       "              Product Mix (Rev)-MF and UIT ($)  Product Mix (Rev)-OTHER ($)  \\\n",
       "NNM_quintile                                                                  \n",
       "0                                           16                           16   \n",
       "1                                            9                            9   \n",
       "2                                            6                            6   \n",
       "3                                           41                           41   \n",
       "\n",
       "              Product Mix (Rev)-TAXABLE FIXED I ($)  \n",
       "NNM_quintile                                         \n",
       "0                                                16  \n",
       "1                                                 9  \n",
       "2                                                 6  \n",
       "3                                                41  "
      ]
     },
     "execution_count": 45,
     "metadata": {},
     "output_type": "execute_result"
    }
   ],
   "source": [
    "Y2"
   ]
  },
  {
   "cell_type": "code",
   "execution_count": 46,
   "metadata": {},
   "outputs": [
    {
     "name": "stdout",
     "output_type": "stream",
     "text": [
      "72\n",
      "41\n"
     ]
    }
   ],
   "source": [
    "sum = (Y2.ix[0,1] + Y2.ix[1,1] + Y2.ix[2,1] + Y2.ix[3,1])\n",
    "qunat4 =  Y2.ix[3,1]\n",
    "print sum\n",
    "print qunat4 "
   ]
  },
  {
   "cell_type": "code",
   "execution_count": 46,
   "metadata": {},
   "outputs": [
    {
     "data": {
      "text/plain": [
       "56"
      ]
     },
     "execution_count": 46,
     "metadata": {},
     "output_type": "execute_result"
    }
   ],
   "source": [
    "ratio = qunat4*100/sum\n",
    "ratio"
   ]
  },
  {
   "cell_type": "code",
   "execution_count": 44,
   "metadata": {},
   "outputs": [
    {
     "data": {
      "text/plain": [
       "dtype('int64')"
      ]
     },
     "execution_count": 44,
     "metadata": {},
     "output_type": "execute_result"
    }
   ],
   "source": [
    "qunat4.dtype"
   ]
  },
  {
   "cell_type": "code",
   "execution_count": 45,
   "metadata": {},
   "outputs": [
    {
     "data": {
      "text/plain": [
       "dtype('int64')"
      ]
     },
     "execution_count": 45,
     "metadata": {},
     "output_type": "execute_result"
    }
   ],
   "source": [
    "sum.dtype"
   ]
  },
  {
   "cell_type": "code",
   "execution_count": null,
   "metadata": {},
   "outputs": [],
   "source": []
  }
 ],
 "metadata": {
  "kernelspec": {
   "display_name": "Python 2",
   "language": "python",
   "name": "python2"
  },
  "language_info": {
   "codemirror_mode": {
    "name": "ipython",
    "version": 2
   },
   "file_extension": ".py",
   "mimetype": "text/x-python",
   "name": "python",
   "nbconvert_exporter": "python",
   "pygments_lexer": "ipython2",
   "version": "2.7.14"
  }
 },
 "nbformat": 4,
 "nbformat_minor": 2
}
